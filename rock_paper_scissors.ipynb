{
 "cells": [
  {
   "cell_type": "code",
   "execution_count": 1,
   "id": "86471c7f",
   "metadata": {},
   "outputs": [],
   "source": [
    "import random"
   ]
  },
  {
   "cell_type": "code",
   "execution_count": 2,
   "id": "76bad53d",
   "metadata": {},
   "outputs": [],
   "source": [
    "def play():\n",
    "    user = input(\"What's your choice? r' for rock, 'p' for paper and 's' for scissors: \")\n",
    "    computer = random.choice(['r', 'p', 's'])\n",
    "    if user == computer:\n",
    "        return 'It\\'s a tie.'\n",
    "    \n",
    "    if is_win(user, computer):\n",
    "        return 'You Won!'\n",
    "    \n",
    "    return 'You Lost!'\n",
    "\n",
    "def is_win(player, opponent):\n",
    "    #returns true if the player wins\n",
    "    # r > s, p > r, s > p\n",
    "    if (player == 'r' and opponent == 's') or (player == \"p\" and opponent == \"r\") or (player == \"s\" and opponent == \"p\"):\n",
    "        return True"
   ]
  },
  {
   "cell_type": "code",
   "execution_count": 3,
   "id": "de562495",
   "metadata": {},
   "outputs": [
    {
     "name": "stdout",
     "output_type": "stream",
     "text": [
      "What's your choice? r' for rock, 'p' for paper and 's' for scissors: r\n"
     ]
    },
    {
     "data": {
      "text/plain": [
       "\"It's a tie.\""
      ]
     },
     "execution_count": 3,
     "metadata": {},
     "output_type": "execute_result"
    }
   ],
   "source": [
    "play()"
   ]
  }
 ],
 "metadata": {
  "kernelspec": {
   "display_name": "Python 3 (ipykernel)",
   "language": "python",
   "name": "python3"
  },
  "language_info": {
   "codemirror_mode": {
    "name": "ipython",
    "version": 3
   },
   "file_extension": ".py",
   "mimetype": "text/x-python",
   "name": "python",
   "nbconvert_exporter": "python",
   "pygments_lexer": "ipython3",
   "version": "3.10.9"
  }
 },
 "nbformat": 4,
 "nbformat_minor": 5
}
